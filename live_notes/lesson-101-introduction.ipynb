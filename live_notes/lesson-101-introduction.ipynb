{
 "cells": [
  {
   "cell_type": "markdown",
   "metadata": {},
   "source": [
    "## Cuda CNN\n",
    "\n",
    "### Recap we are trying to recreate fastai\n",
    "\n",
    "<img src='https://snag.gy/xhSz1v.jpg' >\n",
    "\n",
    "<img src='https://snag.gy/a6F7Ue.jpg' >\n",
    "\n",
    "\n",
    "### we are trying to get close to state of the art\n",
    "\n",
    "<img src='https://snag.gy/qEwN40.jpg' >\n",
    "\n",
    "### LAMB optimization: new stuff!\n",
    "\n",
    "<img src=\"https://snag.gy/XvxCu2.jpg\">\n",
    "\n",
    "\n",
    "### next week - fastai.audio\n",
    "\n",
    "<img src=\"https://snag.gy/4vNqie.jpg\">\n",
    "\n",
    "### then we will be covering sequence to sequence models\n",
    "\n",
    "<img src=\"https://snag.gy/cuxBT6.jpg\" >\n",
    "\n",
    "### then we will be covering a deeper dive into u-nets plus more vision applications\n",
    "\n",
    "<img src=\"https://snag.gy/ksSQP4.jpg\">\n",
    "\n",
    "### And then swift!"
   ]
  },
  {
   "cell_type": "code",
   "execution_count": null,
   "metadata": {},
   "outputs": [],
   "source": []
  }
 ],
 "metadata": {
  "kernelspec": {
   "display_name": "Python 3",
   "language": "python",
   "name": "python3"
  },
  "language_info": {
   "codemirror_mode": {
    "name": "ipython",
    "version": 3
   },
   "file_extension": ".py",
   "mimetype": "text/x-python",
   "name": "python",
   "nbconvert_exporter": "python",
   "pygments_lexer": "ipython3",
   "version": "3.7.3"
  }
 },
 "nbformat": 4,
 "nbformat_minor": 2
}

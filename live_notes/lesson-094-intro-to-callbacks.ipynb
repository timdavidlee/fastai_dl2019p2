{
 "cells": [
  {
   "cell_type": "markdown",
   "metadata": {},
   "source": [
    "# Intro to Callbacks (notebook 4)"
   ]
  },
  {
   "cell_type": "markdown",
   "metadata": {},
   "source": [
    "**Why do we zero out the grad?**\n",
    "\n",
    "We want to zero out grad so that the grad isn't mixed with other numbers while other calculations are being made. Why did we previously make a `step` and `zerograd` separately. We could have used them both, but the problem with that is that we no longer have the ability to zero gradients whereever we want?\n",
    "\n",
    "**Example** - super resolution, with large images, we can only fit 2 images on the GPU at the time. So we need to use a larger batch size. Well, we can say, can change training loop so we only update teh gradients occasionally.\n",
    "\n",
    "<img src=\"https://snag.gy/dMbv7y.jpg\" >\n",
    "\n",
    "<img src='https://snag.gy/LqEhlp.jpg'>\n",
    "\n",
    "\n",
    "### This is the fit function we just wrote\n",
    "\n",
    "<img src='https://snag.gy/cspMIL.jpg' >\n",
    "\n",
    "### Step by Step this is what we are doing\n",
    "\n",
    "<img src='https://snag.gy/qTOcVi.jpg' >\n",
    "\n",
    "# But, we can do much more:\n",
    "\n",
    "\n",
    "### Loss and metric tracking\n",
    "\n",
    "<img src='https://snag.gy/kPCYya.jpg' >\n",
    "\n",
    "### Hyper-parameter scheduling\n",
    "\n",
    "<img src='https://snag.gy/Y1V5PQ.jpg' >\n",
    "\n",
    "\n",
    "### Every regularization Technique\n",
    "\n",
    "<img src='https://snag.gy/We5Rwc.jpg' >\n",
    "\n",
    "### Mixed Precision Training - using tensor cores in volta\n",
    "\n",
    "<img src='https://snag.gy/QAFRYx.jpg' >\n",
    "\n",
    "### Complex training\n",
    "\n",
    "<img src='https://snag.gy/z7csUo.jpg'>\n"
   ]
  },
  {
   "cell_type": "markdown",
   "metadata": {},
   "source": [
    "# But how do do this?\n",
    "\n",
    "### 1. you could write a new training loop each time\n",
    "\n",
    "### 2. or you could write one loop that had all the different options\n",
    "\n",
    "### 3. or we could use callbacks\n",
    "\n",
    "<img src='https://snag.gy/cwpElQ.jpg' >"
   ]
  },
  {
   "cell_type": "markdown",
   "metadata": {},
   "source": [
    "# We will be going from this:\n",
    "\n",
    "<img src='https://snag.gy/jeu5Es.jpg' >\n",
    "\n",
    "# To something like this:\n",
    "\n",
    "<img src='https://snag.gy/9NR2lS.jpg' >\n",
    "\n",
    "<img src='https://snag.gy/lRFhND.jpg' >\n",
    "\n",
    "# Then each stage of the training loop can be adjusted with callbacks\n",
    "\n",
    "<img src='https://snag.gy/MeRvJh.jpg' >\n",
    "\n",
    "\n",
    "# Example: Then you can mix and match different callbacks together\n",
    "\n",
    "<img src='https://snag.gy/kbZS9W.jpg' >\n",
    "\n",
    "# Example: We created a GAN module with a forward mode\n",
    "\n",
    "<img src='https://snag.gy/JdFItm.jpg' >\n",
    "\n",
    "# Then we created a trainer based on that callback method\n",
    "\n",
    "<img src='https://snag.gy/Bp4gNW.jpg' >\n",
    "\n",
    "# Then we had to write the code to do all the right things at the right time\n",
    "\n",
    "<img src='https://snag.gy/tGMc0e.jpg' >"
   ]
  }
 ],
 "metadata": {
  "kernelspec": {
   "display_name": "Python 3",
   "language": "python",
   "name": "python3"
  },
  "language_info": {
   "codemirror_mode": {
    "name": "ipython",
    "version": 3
   },
   "file_extension": ".py",
   "mimetype": "text/x-python",
   "name": "python",
   "nbconvert_exporter": "python",
   "pygments_lexer": "ipython3",
   "version": "3.7.3"
  }
 },
 "nbformat": 4,
 "nbformat_minor": 2
}

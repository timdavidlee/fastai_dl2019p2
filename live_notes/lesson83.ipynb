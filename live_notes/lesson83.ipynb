{
 "cells": [
  {
   "cell_type": "markdown",
   "metadata": {},
   "source": [
    "# Lesson 8 Making Relu / Initialization \n",
    "\n",
    "<img src=\"https://snag.gy/Uy9qxS.jpg\" style=\"width:700px\"/>"
   ]
  },
  {
   "cell_type": "code",
   "execution_count": 3,
   "metadata": {},
   "outputs": [
    {
     "name": "stdout",
     "output_type": "stream",
     "text": [
      "The autoreload extension is already loaded. To reload it, use:\n",
      "  %reload_ext autoreload\n"
     ]
    }
   ],
   "source": [
    "%load_ext autoreload\n",
    "%autoreload 2\n",
    "\n",
    "%matplotlib inline"
   ]
  },
  {
   "cell_type": "code",
   "execution_count": 8,
   "metadata": {},
   "outputs": [],
   "source": [
    "#export\n",
    "from exp.nb_lesson82 import *\n",
    "\n",
    "def get_data():\n",
    "    \"\"\"\n",
    "    Loads the MNIST data from before\n",
    "    \"\"\"\n",
    "    path = datasets.download_data(MNIST_URL, ext='.gz')\n",
    "    with gzip.open(path, 'rb') as f:\n",
    "        ((x_train, y_train), (x_valid, y_valid), _) = pickle.load(f, encoding='latin-1')\n",
    "    return map(tensor, (x_train,y_train,x_valid,y_valid))\n",
    "\n",
    "def normalize(x, m, s): \n",
    "    \"\"\"\n",
    "    Normalizes an input array\n",
    "    Subtract the mean and divide by standard dev\n",
    "    result should be mean 0, std 1\n",
    "    \"\"\"\n",
    "    return (x-m)/s\n",
    "\n",
    "def test_near_zero(a,tol=1e-3): \n",
    "    assert a.abs()<tol, f\"Near zero: {a}\"\n"
   ]
  },
  {
   "cell_type": "markdown",
   "metadata": {},
   "source": [
    "#### Load the MNIST data and normalize"
   ]
  },
  {
   "cell_type": "code",
   "execution_count": 9,
   "metadata": {},
   "outputs": [
    {
     "name": "stdout",
     "output_type": "stream",
     "text": [
      "original mean and std: tensor(0.1304) tensor(0.3073)\n",
      "normalized mean and std: tensor(0.0001) tensor(1.)\n"
     ]
    }
   ],
   "source": [
    "# load the data\n",
    "x_train, y_train, x_valid, y_valid = get_data()\n",
    "\n",
    "# calculate the mean and standard deviation\n",
    "train_mean,train_std = x_train.mean(),x_train.std()\n",
    "print(\"original mean and std:\", train_mean,train_std)\n",
    "\n",
    "# normalize the values\n",
    "x_train = normalize(x_train, train_mean, train_std)\n",
    "x_valid = normalize(x_valid, train_mean, train_std)\n",
    "\n",
    "# check the updated values\n",
    "train_mean,train_std = x_train.mean(),x_train.std()\n",
    "print(\"normalized mean and std:\", train_mean, train_std)"
   ]
  },
  {
   "cell_type": "code",
   "execution_count": 11,
   "metadata": {},
   "outputs": [],
   "source": [
    "# check to ensure that mean is near zero\n",
    "test_near_zero(x_train.mean())\n",
    "\n",
    "# check to ensure that std is near zero\n",
    "test_near_zero(1-x_train.std())"
   ]
  },
  {
   "cell_type": "markdown",
   "metadata": {},
   "source": [
    "### Take a look at the training data\n",
    "\n",
    "Note the size of the training set"
   ]
  },
  {
   "cell_type": "code",
   "execution_count": 12,
   "metadata": {},
   "outputs": [
    {
     "data": {
      "text/plain": [
       "(50000, 784, tensor(10))"
      ]
     },
     "execution_count": 12,
     "metadata": {},
     "output_type": "execute_result"
    }
   ],
   "source": [
    "n,m = x_train.shape\n",
    "c = y_train.max()+1\n",
    "n,m,c"
   ]
  },
  {
   "cell_type": "markdown",
   "metadata": {},
   "source": [
    "# Our first model\n",
    "\n",
    "Our first model will have 50 hidden units. It will also have two hidden layers:\n",
    "\n",
    "1. first layer (`w1`): will be size of `input_shape` x `hidden units`\n",
    "2. second layer (`w2`): will be size of `hidden units`"
   ]
  },
  {
   "cell_type": "code",
   "execution_count": 15,
   "metadata": {},
   "outputs": [],
   "source": [
    "# our linear layer definition\n",
    "\n",
    "def lin(x, w, b):\n",
    "    return x@w + b\n",
    "\n",
    "# number of hidden units\n",
    "nh = 50\n",
    "\n",
    "# initialize our weights and bias\n",
    "# simplified kaiming init / he init\n",
    "w1 = torch.randn(m,nh)/math.sqrt(m)\n",
    "b1 = torch.zeros(nh)\n",
    "\n",
    "w2 = torch.randn(nh,1)/math.sqrt(nh)\n",
    "b2 = torch.zeros(1)"
   ]
  },
  {
   "cell_type": "markdown",
   "metadata": {},
   "source": [
    "## getting normalized weights\n",
    "\n",
    "If we want our weights to similiarily be between 0 and 1. We will divide by these various factors so that the output should also have a mean 0 and standard deviation 1. this is typically done with kaiming normal, but we are approximating it by dividing by sqrt"
   ]
  },
  {
   "cell_type": "code",
   "execution_count": 16,
   "metadata": {},
   "outputs": [
    {
     "name": "stdout",
     "output_type": "stream",
     "text": [
      "tensor(-0.0155) tensor(1.0006)\n"
     ]
    }
   ],
   "source": [
    "t = lin(x_valid, w1, b1)\n",
    "print(t.mean(), t.std())"
   ]
  },
  {
   "cell_type": "markdown",
   "metadata": {},
   "source": [
    "Initialization weights matters. Example: Large network was trained with very specific weight initialization [https://arxiv.org/abs/1901.09321](https://arxiv.org/abs/1901.09321). It turns out even in one-cycle training, those first iterations are very important. We will come back to this\n",
    "\n",
    "<img src='https://snag.gy/osvYL4.jpg' style='width:600px' />"
   ]
  },
  {
   "cell_type": "markdown",
   "metadata": {},
   "source": [
    "### Our ReLu (Rectified Linear Unit)"
   ]
  },
  {
   "cell_type": "code",
   "execution_count": 17,
   "metadata": {},
   "outputs": [],
   "source": [
    "def relu(x):\n",
    "    \"\"\"\n",
    "    Will return itself, unless its below 0\n",
    "    then will return 0\n",
    "    \"\"\"\n",
    "    return x.clamp_min(0.)\n"
   ]
  },
  {
   "cell_type": "markdown",
   "metadata": {},
   "source": [
    "#### Check for mean 0 std 1\n",
    "\n",
    "This will not be true, because all negative values will be changed 0, so the mean will not be zero and the std will vary as well"
   ]
  },
  {
   "cell_type": "code",
   "execution_count": 18,
   "metadata": {},
   "outputs": [
    {
     "name": "stdout",
     "output_type": "stream",
     "text": [
      "tensor(0.3896) tensor(0.5860)\n"
     ]
    }
   ],
   "source": [
    "t = relu(lin(x_valid, w1, b1))\n",
    "print(t.mean(), t.std())"
   ]
  },
  {
   "cell_type": "markdown",
   "metadata": {},
   "source": [
    "#### How to deal with Relu --> (0,1) \n",
    "\n",
    "\n",
    "Imagenet Winners paper\n",
    "\n",
    "Competition winners papers have many good ideas. This introduces ReLu, resnet, kaiming normalization \n",
    "\n",
    "<img src='https://snag.gy/qeJVki.jpg' style='width:600px' />\n",
    "\n",
    "<img src='https://snag.gy/E6efz4.jpg' style='width:600px' />\n",
    "\n",
    "In section 2.2\n",
    "\n",
    "    \"Rectifier networks are easier to train\"\n",
    "    \"Very deep models > 8 conv layers have difficulties to converge\"\n",
    "    \n",
    "You may see `Glorot` initialization (2010). Great paper, and highly influential.\n",
    "\n",
    "<img src='https://snag.gy/NmqKbJ.jpg' style='width:600px' />\n",
    "\n",
    "One suggestion to initialize was this one:\n",
    "\n",
    "<img src='https://snag.gy/gAJQUz.jpg' style='width:600px' />\n",
    "\n",
    "So the imagenet folks modified the equation to account for relu\n",
    "\n",
    "$$\\text{std} = \\sqrt{\\frac{2}{(1 + a^2) \\times \\text{fan_in}}}$$\n"
   ]
  },
  {
   "cell_type": "code",
   "execution_count": 19,
   "metadata": {},
   "outputs": [],
   "source": [
    "# kaiming init / he init for relu\n",
    "w1 = torch.randn(m,nh)*math.sqrt(2/m)"
   ]
  },
  {
   "cell_type": "code",
   "execution_count": 21,
   "metadata": {},
   "outputs": [
    {
     "data": {
      "text/plain": [
       "(tensor(0.0003), tensor(0.0506))"
      ]
     },
     "execution_count": 21,
     "metadata": {},
     "output_type": "execute_result"
    }
   ],
   "source": [
    "w1.mean(),w1.std()"
   ]
  },
  {
   "cell_type": "markdown",
   "metadata": {},
   "source": [
    "### and now the result is much closer to mean 0, std 1"
   ]
  },
  {
   "cell_type": "code",
   "execution_count": 22,
   "metadata": {},
   "outputs": [
    {
     "data": {
      "text/plain": [
       "(tensor(0.5896), tensor(0.8658))"
      ]
     },
     "execution_count": 22,
     "metadata": {},
     "output_type": "execute_result"
    }
   ],
   "source": [
    "t = relu(lin(x_valid, w1, b1))\n",
    "t.mean(),t.std()"
   ]
  },
  {
   "cell_type": "markdown",
   "metadata": {},
   "source": [
    "The paper is worth digging into. Another interesting topic they address is that conv layer is very similar to a matrix multiplication\n",
    "\n",
    "<img src='https://snag.gy/SB5yFZ.jpg' style='width:600px' />\n",
    "\n",
    "Then they take you step by step of how the variance changes throughout the network\n",
    "\n",
    "<img src='https://snag.gy/mypw3u.jpg' style='width:600px' />\n",
    "\n",
    "Forward pass is a matrix multiply and backward pass is a matrix multiply with a transpose. And they finally recommend sqrt(2 over activations). Now that we understand how to normalize weights and how to calculate the kaiming normal, lets use the pytorch version of it"
   ]
  },
  {
   "cell_type": "code",
   "execution_count": 23,
   "metadata": {},
   "outputs": [],
   "source": [
    "#export\n",
    "from torch.nn import init\n",
    "\n",
    "w1 = torch.zeros(m,nh)\n",
    "init.kaiming_normal_(w1, mode='fan_out')\n",
    "t = relu(lin(x_valid, w1, b1))"
   ]
  },
  {
   "cell_type": "markdown",
   "metadata": {},
   "source": [
    "#### Fan in or Fan out\n",
    "\n",
    "    mode: either 'fan_in' (default) or 'fan_out'. Choosing `fan_in`\n",
    "            preserves the magnitude of the variance of the weights in the\n",
    "            forward pass. Choosing `fan_out` preserves the magnitudes in the\n",
    "            backwards pass.\n",
    "            \n",
    "So why are we doing `fan_out`? Are you dividing by `row(m)` or by `row(nh)`. BEcause our weight shape is 784 x 50. pytorch actually does the reverse (50 x 784). How does this work?\n",
    "\n",
    "```python\n",
    "import torch.nn\n",
    "torch.nn.Linear(m,nh).weight.shape\n",
    "```\n",
    "\n",
    "```bash\n",
    "    torch.Size([50, 784])\n",
    "```\n",
    "\n",
    "Docstring\n",
    "\n",
    "```python\n",
    "torch.nn.Linear.forward??\n",
    "```\n",
    "\n",
    "```python\n",
    "...\n",
    "# Source:   \n",
    "    @weak_script_method\n",
    "    def forward(self, input):\n",
    "        return F.linear(input, self.weight, self.bias)\n",
    "...\n",
    "```\n",
    "\n",
    "In pytorch **`F`** always refers to **`torch.nn.functional`**\n",
    "\n",
    "Docstring\n",
    "\n",
    "```python\n",
    "torch.nn.functional.linear??\n",
    "```\n",
    "\n",
    "```python\n",
    "@torch._jit_internal.weak_script\n",
    "def linear(input, weight, bias=None):\n",
    "    # type: (Tensor, Tensor, Optional[Tensor]) -> Tensor\n",
    "    r\"\"\"\n",
    "    Applies a linear transformation to the incoming data: :math:`y = xA^T + b`.\n",
    "\n",
    "    Shape:\n",
    "\n",
    "        - Input: :math:`(N, *, in\\_features)` where `*` means any number of\n",
    "          additional dimensions\n",
    "        - Weight: :math:`(out\\_features, in\\_features)`\n",
    "        - Bias: :math:`(out\\_features)`\n",
    "        - Output: :math:`(N, *, out\\_features)`\n",
    "    \"\"\"\n",
    "    if input.dim() == 2 and bias is not None:\n",
    "        # fused op is marginally faster\n",
    "        ret = torch.addmm(torch.jit._unwrap_optional(bias), input, weight.t())\n",
    "    else:\n",
    "        output = input.matmul(weight.t())\n",
    "        if bias is not None:\n",
    "            output += torch.jit._unwrap_optional(bias)\n",
    "        ret = output\n",
    "    return ret\n",
    "```\n",
    "\n",
    "We see in the doc string that we do the transpose with the following phrase **`weight.t()`** and that's why the dimensions are flipped\n",
    "\n",
    "#### What does pytorch do for Conv2d layers?\n",
    "\n",
    "```python\n",
    "torch.nn.Conv2d??\n",
    "```\n",
    "\n",
    "Turns out that all the code is passed to another class\n",
    "\n",
    "```python\n",
    "#Source:\n",
    "class Conv2d(_ConvNd):\n",
    "...\n",
    "\n",
    "#File:           ~/envs/py3/lib/python3.6/site-packages/torch/nn/modules/conv.py\n",
    "#Type:           type\n",
    "```\n",
    "\n",
    "So if we dig to the next level of the library\n",
    "\n",
    "```python\n",
    "torch.nn.modules.conv._ConvNd.reset_parameters??\n",
    "```\n",
    "\n",
    "```python\n",
    "# Source:\n",
    "    def reset_parameters(self):\n",
    "        n = self.in_channels\n",
    "        init.kaiming_uniform_(self.weight, a=math.sqrt(5))\n",
    "        if self.bias is not None:\n",
    "            fan_in, _ = init._calculate_fan_in_and_fan_out(self.weight)\n",
    "            bound = 1 / math.sqrt(fan_in)\n",
    "            init.uniform_(self.bias, -bound, bound)\n",
    "```\n",
    "\n",
    "note that it is divided by **math.sqrt(5)** which turns out not to perform very well. "
   ]
  },
  {
   "cell_type": "markdown",
   "metadata": {},
   "source": [
    "### Back to activation functions\n",
    "\n",
    "now we see that the mean is zero and the standard deviation is close to 1"
   ]
  },
  {
   "cell_type": "code",
   "execution_count": 32,
   "metadata": {},
   "outputs": [
    {
     "name": "stdout",
     "output_type": "stream",
     "text": [
      "tensor(0.0482) tensor(0.7982) | \n",
      "tensor(0.0316) tensor(0.8060) | \n",
      "tensor(0.1588) tensor(0.9367) | \n",
      "tensor(0.0863) tensor(0.8403) | \n",
      "tensor(-0.0310) tensor(0.7310) | \n",
      "tensor(0.0467) tensor(0.7965) | \n",
      "tensor(0.1252) tensor(0.8700) | \n",
      "tensor(-0.0610) tensor(0.7189) | \n",
      "tensor(0.0264) tensor(0.7755) | \n",
      "tensor(0.1081) tensor(0.8605) | \n"
     ]
    }
   ],
   "source": [
    "def relu(x): \n",
    "    return x.clamp_min(0.) - 0.5\n",
    "\n",
    "\n",
    "for i in range(10):\n",
    "    # kaiming init / he init for relu\n",
    "    w1 = torch.randn(m,nh)*math.sqrt(2./m )\n",
    "    t1 = relu(lin(x_valid, w1, b1))\n",
    "    print(t1.mean(), t1.std(), '| ')"
   ]
  },
  {
   "cell_type": "markdown",
   "metadata": {},
   "source": [
    "#### So where are we now? Fully connected Layers\n",
    "\n",
    "<img src=\"https://snag.gy/Uy9qxS.jpg\" style=\"width:700px\"/>"
   ]
  },
  {
   "cell_type": "markdown",
   "metadata": {},
   "source": [
    "## Our first model"
   ]
  },
  {
   "cell_type": "code",
   "execution_count": 33,
   "metadata": {},
   "outputs": [],
   "source": [
    "def relu(x): \n",
    "    return x.clamp_min(0.) - 0.5\n",
    "\n",
    "def lin(x, w, b):\n",
    "    return x@w + b\n",
    "\n",
    "def model(xb):\n",
    "    l1 = lin(xb, w1, b1)\n",
    "    l2 = relu(l1)\n",
    "    l3 = lin(l2, w2, b2)\n",
    "    return l3"
   ]
  },
  {
   "cell_type": "code",
   "execution_count": 35,
   "metadata": {},
   "outputs": [
    {
     "name": "stdout",
     "output_type": "stream",
     "text": [
      "6.71 ms ± 456 µs per loop (mean ± std. dev. of 7 runs, 10 loops each)\n"
     ]
    }
   ],
   "source": [
    "# timing it on the validation set\n",
    "%timeit -n 10 _=model(x_valid)"
   ]
  },
  {
   "cell_type": "code",
   "execution_count": 36,
   "metadata": {},
   "outputs": [],
   "source": [
    "assert model(x_valid).shape==torch.Size([x_valid.shape[0],1])"
   ]
  },
  {
   "cell_type": "markdown",
   "metadata": {},
   "source": [
    "### Loss Functions : MSE\n",
    "\n",
    "We need **`squeeze()`** to get rid of that trailing **`(,1)`**, in order to use mse. (Of course, mse is not a suitable loss function for multi-class classification; we'll use a better loss function soon. We'll use mse for now to keep things simple.)\n",
    "\n"
   ]
  },
  {
   "cell_type": "code",
   "execution_count": 37,
   "metadata": {},
   "outputs": [
    {
     "data": {
      "text/plain": [
       "torch.Size([10000, 1])"
      ]
     },
     "execution_count": 37,
     "metadata": {},
     "output_type": "execute_result"
    }
   ],
   "source": [
    "model(x_valid).shape"
   ]
  },
  {
   "cell_type": "code",
   "execution_count": 38,
   "metadata": {},
   "outputs": [],
   "source": [
    "#export\n",
    "def mse(output, targ): \n",
    "    # we want to drop the last dimension\n",
    "    return (output.squeeze(-1) - targ).pow(2).mean()"
   ]
  },
  {
   "cell_type": "code",
   "execution_count": 40,
   "metadata": {},
   "outputs": [
    {
     "name": "stdout",
     "output_type": "stream",
     "text": [
      "torch.Size([50000, 1])\n",
      "tensor(22.1963)\n"
     ]
    }
   ],
   "source": [
    "# converting to float (from tensors)\n",
    "y_train, y_valid = y_train.float(), y_valid.float()\n",
    "\n",
    "# make our predictions\n",
    "preds = model(x_train)\n",
    "print(preds.shape)\n",
    "\n",
    "# check our mse\n",
    "print(mse(preds, y_train))"
   ]
  },
  {
   "cell_type": "markdown",
   "metadata": {},
   "source": [
    "## Gradients\n",
    "\n",
    "How much should you know about matrix calculus? It's up to you, but there's a great reference article:\n",
    "\n",
    "<img src='https://snag.gy/URwGZu.jpg' style='width:600px' />\n",
    "\n",
    "One thing you should learn is the **chain rule**. \n",
    "\n",
    "When we are working through our functions, the order works like this:\n",
    "\n",
    "<img src='https://snag.gy/MsT82c.jpg' style='width:600px' />\n",
    "\n",
    "Then we can simplify to:\n",
    "\n",
    "$y = f(u)$\n",
    "\n",
    "$u = g(x)$\n",
    "\n",
    "And then the derivative is:\n",
    "\n",
    "$ \\frac{dy}{dx} = \\frac{dy}{du} \\frac{du}{dx}$\n",
    "\n",
    "<img src='https://snag.gy/4GJa9C.jpg' style='width:200px' />\n",
    "\n",
    "The representation looks like this:\n",
    "\n",
    "<img src='https://snag.gy/hdNabj.jpg' style='width:200px' />\n",
    "\n",
    "\n",
    "#### To do the chain rule, start backwards.."
   ]
  },
  {
   "cell_type": "code",
   "execution_count": 41,
   "metadata": {},
   "outputs": [],
   "source": [
    "def mse_grad(inp, targ): \n",
    "    # grad of loss with respect to output of previous layer\n",
    "    # the derivative of squared output x^2 => 2x\n",
    "    inp.g = 2. * (inp.squeeze() - targ).unsqueeze(-1) / inp.shape[0]"
   ]
  },
  {
   "cell_type": "code",
   "execution_count": null,
   "metadata": {},
   "outputs": [],
   "source": [
    "def relu_grad(inp, out):\n",
    "    # grad of relu with respect to input activations\n",
    "    inp.g = (inp>0).float() * out.g"
   ]
  }
 ],
 "metadata": {
  "kernelspec": {
   "display_name": "Python 3",
   "language": "python",
   "name": "python3"
  },
  "language_info": {
   "codemirror_mode": {
    "name": "ipython",
    "version": 3
   },
   "file_extension": ".py",
   "mimetype": "text/x-python",
   "name": "python",
   "nbconvert_exporter": "python",
   "pygments_lexer": "ipython3",
   "version": "3.6.5"
  }
 },
 "nbformat": 4,
 "nbformat_minor": 2
}

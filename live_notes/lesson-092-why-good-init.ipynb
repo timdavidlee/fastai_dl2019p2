{
 "cells": [
  {
   "cell_type": "code",
   "execution_count": 1,
   "metadata": {},
   "outputs": [],
   "source": [
    "import torch"
   ]
  },
  {
   "cell_type": "markdown",
   "metadata": {},
   "source": [
    "## Why you need a good init\n",
    "\n",
    "To understand why initialization is important in a neural net, we'll focus on the basic operation you have there: matrix multiplications. So let's just take a vector `x` and a matrix `a` initialized randomly then multiply them 100 times (to simulate 100 layers).\n",
    "\n",
    "The activations get very very large quickly, as we can see at the end"
   ]
  },
  {
   "cell_type": "code",
   "execution_count": 4,
   "metadata": {},
   "outputs": [
    {
     "data": {
      "text/plain": [
       "(tensor(nan), tensor(nan))"
      ]
     },
     "execution_count": 4,
     "metadata": {},
     "output_type": "execute_result"
    }
   ],
   "source": [
    "x = torch.randn(512)\n",
    "a = torch.randn(512, 512)\n",
    "\n",
    "for i in range(100):\n",
    "    x = a @ x\n",
    "    \n",
    "x.mean(), x.std()"
   ]
  },
  {
   "cell_type": "markdown",
   "metadata": {},
   "source": [
    "We can ask the loop to break when this happens, turns out that it only takes 28 iterations"
   ]
  },
  {
   "cell_type": "code",
   "execution_count": 5,
   "metadata": {},
   "outputs": [
    {
     "name": "stdout",
     "output_type": "stream",
     "text": [
      "28\n"
     ]
    }
   ],
   "source": [
    "x = torch.randn(512)\n",
    "a = torch.randn(512, 512)\n",
    "\n",
    "for i in range(100):\n",
    "    x = a @ x\n",
    "    if x.std() != x.std():\n",
    "        break\n",
    "print(i)"
   ]
  },
  {
   "cell_type": "markdown",
   "metadata": {},
   "source": [
    "What if we make the activations super small? .. it goes to **zero**"
   ]
  },
  {
   "cell_type": "code",
   "execution_count": 6,
   "metadata": {},
   "outputs": [
    {
     "data": {
      "text/plain": [
       "(tensor(0.), tensor(0.))"
      ]
     },
     "execution_count": 6,
     "metadata": {},
     "output_type": "execute_result"
    }
   ],
   "source": [
    "x = torch.randn(512)\n",
    "a = torch.randn(512, 512) * 0.01\n",
    "\n",
    "for i in range(100):\n",
    "    x = a @ x\n",
    "    \n",
    "x.mean(), x.std()"
   ]
  },
  {
   "cell_type": "markdown",
   "metadata": {},
   "source": [
    "### The magic number of scaling\n",
    "\n",
    "Using Xavier initialization, we use the formula, that the weight should be **`1/math.sqrt(n_in)`**"
   ]
  },
  {
   "cell_type": "code",
   "execution_count": 13,
   "metadata": {},
   "outputs": [
    {
     "data": {
      "text/plain": [
       "(tensor(-0.3070), tensor(2.9736))"
      ]
     },
     "execution_count": 13,
     "metadata": {},
     "output_type": "execute_result"
    }
   ],
   "source": [
    "import math\n",
    "\n",
    "x = torch.randn(512)\n",
    "a = torch.randn(512, 512) / math.sqrt(512)\n",
    "\n",
    "for i in range(100):\n",
    "    x = a @ x\n",
    "    \n",
    "x.mean(), x.std()"
   ]
  },
  {
   "cell_type": "markdown",
   "metadata": {},
   "source": [
    "<img src=\"https://snag.gy/CUFMsa.jpg\">\n",
    "\n",
    "- There's another paper called \"all you need is a good init\"\n",
    "- Orthogonal initialization\n",
    "- Kaiming\n",
    "- Xavier\n",
    "- Fixup initialization\n",
    "- Self-normalizing neural networks, how to try and set a combination of activation functions + init that you are guaranteed unit-variance ( std = 1)\n",
    "\n",
    "The last two are incredibly fiddly, if the architecture changes at all. the inits + activations all need to be returned and reset. **SeLU** is the name. `All you need is a good init` is a good paper that suggests doing a little loop to find the best init"
   ]
  },
  {
   "cell_type": "code",
   "execution_count": null,
   "metadata": {},
   "outputs": [],
   "source": []
  }
 ],
 "metadata": {
  "kernelspec": {
   "display_name": "Python 3",
   "language": "python",
   "name": "python3"
  },
  "language_info": {
   "codemirror_mode": {
    "name": "ipython",
    "version": 3
   },
   "file_extension": ".py",
   "mimetype": "text/x-python",
   "name": "python",
   "nbconvert_exporter": "python",
   "pygments_lexer": "ipython3",
   "version": "3.7.3"
  }
 },
 "nbformat": 4,
 "nbformat_minor": 2
}
